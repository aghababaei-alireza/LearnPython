{
  "metadata": {
    "toc-showmarkdowntxt": false,
    "toc-autonumbering": true,
    "toc-showcode": false,
    "language_info": {
      "codemirror_mode": {
        "name": "python",
        "version": 3
      },
      "file_extension": ".py",
      "mimetype": "text/x-python",
      "name": "python",
      "nbconvert_exporter": "python",
      "pygments_lexer": "ipython3",
      "version": "3.8"
    },
    "kernelspec": {
      "name": "python",
      "display_name": "Python (Pyodide)",
      "language": "python"
    }
  },
  "nbformat_minor": 4,
  "nbformat": 4,
  "cells": [
    {
      "cell_type": "markdown",
      "source": "# Python\nPython is:\n* A multi-purpose anguage like Java, C#, C++, ...\n* A simple and minimal language to shorten codes\n* A high-level language (similar to human language)\n* An interpreter language\n* An object-oriented language\n* A free and open-source language\n\nIn this tutorial we will be familiar with python concepts and syntax.\n\n## Keywords\nKeywords are reserved words in python that has specific meanings and we can't use them to name variables, functions, classes, modules, etc. To reach a full list of keywords in python we can use `help()` function:",
      "metadata": {}
    },
    {
      "cell_type": "code",
      "source": "help(\"keywords\")",
      "metadata": {
        "trusted": true
      },
      "execution_count": 1,
      "outputs": [
        {
          "name": "stdout",
          "text": "\nHere is a list of the Python keywords.  Enter any keyword to get more help.\n\nFalse               class               from                or\nNone                continue            global              pass\nTrue                def                 if                  raise\nand                 del                 import              return\nas                  elif                in                  try\nassert              else                is                  while\nasync               except              lambda              with\nawait               finally             nonlocal            yield\nbreak               for                 not                 \n\n",
          "output_type": "stream"
        }
      ]
    },
    {
      "cell_type": "markdown",
      "source": "# Identifiers\nIdentifiers are the words we define to name the variables, functions, constants, classes, etc.\n\nThere are some rules to define an identifier:\n* Identifier can contain uppercase and lowercase letters(a-z, A-Z), digits(0-9) and underscore(_)\n* Identifier can't start with a digit\n* It's recommended to use UPPERCASE letters for constants\n* It's recommended to use underscores to separate words in variable names\n* It's recommended to start class names with a capital letter\n* It's recommended to use snake_case to name variables and functions\n* It's recommended to use CamelCase to name classes\n\n# Variables\nA space in RAM that can store a value is called variable. We can define variables to store values and use them is our program. Python is not a strongly-typed language. It means that we can change the type of value stored in a variable. For example, first we store a number into variable `a` and then we change it and store a string into it. It is possible.",
      "metadata": {}
    },
    {
      "cell_type": "code",
      "source": "a = 5\nprint(a)\na = \"a has now a string\"\nprint(a)",
      "metadata": {
        "trusted": true
      },
      "execution_count": 2,
      "outputs": [
        {
          "name": "stdout",
          "text": "5\na has now a string\n",
          "output_type": "stream"
        }
      ]
    },
    {
      "cell_type": "markdown",
      "source": "# Data Types\nIn python we have many built-in data types, such as:\n* Numbers\n    - int\n    - float\n    - complex\n* Sequences\n    - str\n    - list\n    - tuple\n* set\n* dict\n* bool\n\n## int\nInteger numbers have `int` type, such as 5, -23, 1452, etc. In python 3, there is no more limitation to store integer numbers. So we can store large-large integer values as well.\nWe can use `type()` function to find the data-type of a variable.",
      "metadata": {}
    },
    {
      "cell_type": "code",
      "source": "a = 5\nprint(type(a))",
      "metadata": {
        "trusted": true
      },
      "execution_count": 3,
      "outputs": [
        {
          "name": "stdout",
          "text": "<class 'int'>\n",
          "output_type": "stream"
        }
      ]
    },
    {
      "cell_type": "code",
      "source": "b = 1254689752145632598756421536579541523\nprint(type(b))",
      "metadata": {
        "trusted": true
      },
      "execution_count": 4,
      "outputs": [
        {
          "name": "stdout",
          "text": "<class 'int'>\n",
          "output_type": "stream"
        }
      ]
    },
    {
      "cell_type": "markdown",
      "source": "## float\nFloating point numbers can store in float variables, such as 1.2, -5.786, etc.",
      "metadata": {}
    },
    {
      "cell_type": "code",
      "source": "f = 1.5\nprint(type(f))",
      "metadata": {
        "trusted": true
      },
      "execution_count": 5,
      "outputs": [
        {
          "name": "stdout",
          "text": "<class 'float'>\n",
          "output_type": "stream"
        }
      ]
    },
    {
      "cell_type": "markdown",
      "source": "## complex\nComplex numbers have two parts: real and imaginary part. We can declare them to python using `j` letter. For example `3+4j` is of type complex.",
      "metadata": {}
    },
    {
      "cell_type": "code",
      "source": "c = 3+4j\nprint(c)\nprint(type(c))",
      "metadata": {
        "trusted": true
      },
      "execution_count": 6,
      "outputs": [
        {
          "name": "stdout",
          "text": "(3+4j)\n<class 'complex'>\n",
          "output_type": "stream"
        }
      ]
    },
    {
      "cell_type": "markdown",
      "source": "## str\nStrings and texts can be stored as str variables. We can use `' '`, `\" \"`, `''' '''`, or `\"\"\" \"\"\"` to define a string. There is no difference between single or double quotations. `''' '''` and `\"\"\" \"\"\"` is used to define multi-line strings.",
      "metadata": {}
    },
    {
      "cell_type": "code",
      "source": "s1 = 'book'\ns2 = \"pencil\"\ns3 = '''This is a multi-line \nText that has 2 lines.'''\ns4 = \"\"\"Another ...\nmulti-line text.\"\"\"\n\nprint(s1)\nprint(\"----------------\")\nprint(s2)\nprint(\"----------------\")\nprint(s3)\nprint(\"----------------\")\nprint(s4)\nprint(\"----------------\")\nprint(type(s1))",
      "metadata": {
        "trusted": true
      },
      "execution_count": 7,
      "outputs": [
        {
          "name": "stdout",
          "text": "book\n----------------\npencil\n----------------\nThis is a multi-line \nText that has 2 lines.\n----------------\nAnother ...\nmulti-line text.\n----------------\n<class 'str'>\n",
          "output_type": "stream"
        }
      ]
    },
    {
      "cell_type": "markdown",
      "source": "## list\nWe can store multiple values in a list. Values stored in a list may have different types. lists are defined with square brackets `[ ]` and values are separated with comma `,`.",
      "metadata": {}
    },
    {
      "cell_type": "code",
      "source": "a = [1, 2, \"ali\", 45.325, False]\nprint(type(a))",
      "metadata": {
        "trusted": true
      },
      "execution_count": 8,
      "outputs": [
        {
          "name": "stdout",
          "text": "<class 'list'>\n",
          "output_type": "stream"
        }
      ]
    },
    {
      "cell_type": "markdown",
      "source": "## tuple\nTuples are similar to list but the values stored in a tuple are immutable. It means that wen you create a tuple, you can not change its values. Tuples are defined with parenthesis `( )`.",
      "metadata": {}
    },
    {
      "cell_type": "code",
      "source": "a = (1, 2, \"ali\", 45.325, False)\nprint(type(a))",
      "metadata": {
        "trusted": true
      },
      "execution_count": 9,
      "outputs": [
        {
          "name": "stdout",
          "text": "<class 'tuple'>\n",
          "output_type": "stream"
        }
      ]
    },
    {
      "cell_type": "markdown",
      "source": "## set\nSets are similar to lists but they store unique values. It means that if you add a values to a set twice, the second value will be discarded. Sets are defined with curly braces `{ }`.",
      "metadata": {}
    },
    {
      "cell_type": "code",
      "source": "a = {1, 1, 1, 2, \"ali\", False, \"ali\", 45.325}\nprint(a)\nprint(type(a))",
      "metadata": {
        "trusted": true
      },
      "execution_count": 10,
      "outputs": [
        {
          "name": "stdout",
          "text": "{False, 1, 2, 45.325, 'ali'}\n<class 'set'>\n",
          "output_type": "stream"
        }
      ]
    },
    {
      "cell_type": "markdown",
      "source": "## dict\nDictionaries are key-value pairs. That means you can assign a name (called key) to a value. They are defined with curly braces `{ }` and in the for of `key: value`. Key and values can have different types.",
      "metadata": {}
    },
    {
      "cell_type": "code",
      "source": "a = {\"name\": \"ali\", \"family\": \"rezaei\", \"age\": 27, \"married\": False}\nprint(a)\nprint(type(a))",
      "metadata": {
        "trusted": true
      },
      "execution_count": 11,
      "outputs": [
        {
          "name": "stdout",
          "text": "{'name': 'ali', 'family': 'rezaei', 'age': 27, 'married': False}\n<class 'dict'>\n",
          "output_type": "stream"
        }
      ]
    },
    {
      "cell_type": "markdown",
      "source": "## bool\nLogical values can be stored in booleans. They can be `True` or `False`.",
      "metadata": {}
    },
    {
      "cell_type": "code",
      "source": "a = True\nprint(type(a))",
      "metadata": {
        "trusted": true
      },
      "execution_count": 12,
      "outputs": [
        {
          "name": "stdout",
          "text": "<class 'bool'>\n",
          "output_type": "stream"
        }
      ]
    },
    {
      "cell_type": "markdown",
      "source": "# Comments\nWe can use `#` to mark a line as comment in python.",
      "metadata": {}
    },
    {
      "cell_type": "code",
      "source": "# This line is comment and interpreter will discard it.\na = 5 # This is comment\nprint(a) # This is another comment",
      "metadata": {
        "trusted": true
      },
      "execution_count": 13,
      "outputs": [
        {
          "name": "stdout",
          "text": "5\n",
          "output_type": "stream"
        }
      ]
    },
    {
      "cell_type": "markdown",
      "source": "# Output Commands\nSo far we used `print()` function to write some information to the output. But `print` has more functionalities. The full signature of this function is:\n`print(value1, value2, ..., sep = ..., end = ...)`\n\nWe can print multiple values at once with `print` function and by default python separates those values with space.",
      "metadata": {}
    },
    {
      "cell_type": "code",
      "source": "a = 5\nb = \"ali\"\nc = True\nprint(a, b, c, \"reza\")",
      "metadata": {
        "trusted": true
      },
      "execution_count": 14,
      "outputs": [
        {
          "name": "stdout",
          "text": "5 ali True reza\n",
          "output_type": "stream"
        }
      ]
    },
    {
      "cell_type": "markdown",
      "source": "We can use `sep` parameter to tell python how to separate the values. For example if we use `sep = \",\"`, all values will be separated with comma `,`.",
      "metadata": {}
    },
    {
      "cell_type": "code",
      "source": "a = 5\nb = \"ali\"\nc = True\nprint(a, b, c, \"reza\", sep = \",\")",
      "metadata": {
        "trusted": true
      },
      "execution_count": 15,
      "outputs": [
        {
          "name": "stdout",
          "text": "5,ali,True,reza\n",
          "output_type": "stream"
        }
      ]
    },
    {
      "cell_type": "markdown",
      "source": "By default, `print` function will move the cursor to the new line after all values are printed (That means it prints a `newline character \\n` at the end). So if we use two `print` functions, the values will bew printed on two lines:",
      "metadata": {}
    },
    {
      "cell_type": "code",
      "source": "print(\"First string\")\nprint(\"Second string\")",
      "metadata": {
        "trusted": true
      },
      "execution_count": 16,
      "outputs": [
        {
          "name": "stdout",
          "text": "First string\nSecond string\n",
          "output_type": "stream"
        }
      ]
    },
    {
      "cell_type": "markdown",
      "source": "But we can use `end` parameter to tell python what character should be printed at the end.",
      "metadata": {}
    },
    {
      "cell_type": "code",
      "source": "print(\"First string\", end = \"-\")\nprint(\"Second string\")",
      "metadata": {
        "trusted": true
      },
      "execution_count": 17,
      "outputs": [
        {
          "name": "stdout",
          "text": "First string-Second string\n",
          "output_type": "stream"
        }
      ]
    },
    {
      "cell_type": "markdown",
      "source": "## Control characters\nControl characters are characters with special meanings in strings:\n* `\\n` New-line character: Moves the cursor to the next line\n* `\\t` Tab character\n\n## Raw strings\nIf we define a raw strings, all control characters are disabled in that string and they have no special meanings. We can define raw strings with placing `r` before quotations: `r\" \"`",
      "metadata": {}
    },
    {
      "cell_type": "code",
      "source": "print(\"This is \\n normal string\")\nprint(\"------------------------\")\nprint(r\"This is \\n raw string\")",
      "metadata": {
        "trusted": true
      },
      "execution_count": 18,
      "outputs": [
        {
          "name": "stdout",
          "text": "This is \n normal string\n------------------------\nThis is \\n raw string\n",
          "output_type": "stream"
        }
      ]
    },
    {
      "cell_type": "markdown",
      "source": "## Formatting strings\nIf you want to create a string a put the values of some variables in that string and print that, the most complicated way is to send all values one by one to the `print` function as parameteres like this:",
      "metadata": {}
    },
    {
      "cell_type": "code",
      "source": "name = \"ali\"\nfamily = \"rezaei\"\nage = 27\nprint(\"Name:\", name, \"\\nFamily:\", family, \"\\nAge:\", age)",
      "metadata": {
        "trusted": true
      },
      "execution_count": 19,
      "outputs": [
        {
          "name": "stdout",
          "text": "Name: ali \nFamily: rezaei \nAge: 27\n",
          "output_type": "stream"
        }
      ]
    },
    {
      "cell_type": "markdown",
      "source": "But we can use python features to format strings.\n### format function\n`format` function is used to place the values of variables inside of a string. To use this function, you should write your string and place a set of curly braces `{}` (called placeholder) in string whereever you want to place a variable. Then apply the `format` function to that string and send all variables as parameters to the function.",
      "metadata": {}
    },
    {
      "cell_type": "code",
      "source": "name = \"ali\"\nfamily = \"rezaei\"\nage = 27\nprint(\"Name: {}\\nFamily: {}\\nAge: {}\".format(name, family, age))",
      "metadata": {
        "trusted": true
      },
      "execution_count": 20,
      "outputs": [
        {
          "name": "stdout",
          "text": "Name: ali\nFamily: rezaei\nAge: 27\n",
          "output_type": "stream"
        }
      ]
    },
    {
      "cell_type": "markdown",
      "source": "### f-Strings\nThis is the most useful and easiest way to format a string. You should place a `f` before quotations and write the name of variables in curly braces `{}` inside a string.",
      "metadata": {}
    },
    {
      "cell_type": "code",
      "source": "name = \"ali\"\nfamily = \"rezaei\"\nage = 27\nprint(f\"Name: {name}\\nFamily: {family}\\nAge: {age}\")",
      "metadata": {
        "trusted": true
      },
      "execution_count": 21,
      "outputs": [
        {
          "name": "stdout",
          "text": "Name: ali\nFamily: rezaei\nAge: 27\n",
          "output_type": "stream"
        }
      ]
    },
    {
      "cell_type": "markdown",
      "source": "# Input Commands\nIf you want to get a data from user, you can use `input` function. The result of this function can be stored in a variable.",
      "metadata": {}
    },
    {
      "cell_type": "code",
      "source": "s = input()",
      "metadata": {
        "trusted": true
      },
      "execution_count": 9,
      "outputs": [
        {
          "output_type": "stream",
          "name": "stdin",
          "text": " ali\n"
        }
      ]
    },
    {
      "cell_type": "markdown",
      "source": "We can send a string message as parameter to `input` function to show that message to user before getting data from user.",
      "metadata": {}
    },
    {
      "cell_type": "code",
      "source": "s = input(\"Please enter your name: \")",
      "metadata": {
        "trusted": true
      },
      "execution_count": 10,
      "outputs": [
        {
          "output_type": "stream",
          "name": "stdin",
          "text": "Please enter your name:  ali\n"
        }
      ]
    },
    {
      "cell_type": "markdown",
      "source": "Note that the result of `input` function is string. So if you want to get another data type from user, you should convert the string to the right type using these functions:\n* `int()`: Convert to integer\n* `float()`: Convert to float number\n* `str()`: Convert to string\n* `bool()`: Convert to logical values (True/False)\n* `chr()`: Convert ascii code to character\n* `ord()`: Convert character to its ascii code",
      "metadata": {}
    },
    {
      "cell_type": "code",
      "source": "age = int(\"27\")\naverage = float(\"18.25\")\ns = str(15)\nb = bool(\"True\")\nc = chr(69)\no = ord(\"z\")\n\nprint(f\"age = {age} and type of age is {type(age)}\")\nprint(f\"average = {average} and type of average is {type(average)}\")\nprint(f\"s = {s} and type of s is {type(s)}\")\nprint(f\"b = {b} and type of b is {type(b)}\")\nprint(f\"c = {c} and type of c is {type(c)}\")\nprint(f\"o = {o} and type of o is {type(o)}\")",
      "metadata": {
        "trusted": true
      },
      "execution_count": 12,
      "outputs": [
        {
          "name": "stdout",
          "text": "age = 27 and type of age is <class 'int'>\naverage = 18.25 and type of average is <class 'float'>\ns = 15 and type of s is <class 'str'>\nb = True and type of b is <class 'bool'>\nc = E and type of c is <class 'str'>\no = 122 and type of o is <class 'int'>\n",
          "output_type": "stream"
        }
      ]
    },
    {
      "cell_type": "code",
      "source": "",
      "metadata": {},
      "execution_count": null,
      "outputs": []
    }
  ]
}